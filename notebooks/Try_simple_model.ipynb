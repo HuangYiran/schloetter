{
 "cells": [
  {
   "cell_type": "code",
   "execution_count": 1,
   "metadata": {},
   "outputs": [],
   "source": [
    "import pandas as pd\n",
    "import shapely\n",
    "import numpy as np\n",
    "import sys\n",
    "import torch\n",
    "import argparse\n",
    "import random\n",
    "import math\n",
    "import os\n",
    "import warnings\n",
    "from datetime import datetime\n",
    "from gensim.models import word2vec\n",
    "from shapely.geometry import LineString, Polygon\n",
    "from sklearn.preprocessing import OneHotEncoder\n",
    "from sklearn.preprocessing import StandardScaler, MinMaxScaler# 好处在于可以保存训练集中的参数（均值、方差）\n",
    "from scipy.stats import stats\n",
    "from torch.utils.data import DataLoader\n",
    "from torch.optim import lr_scheduler\n",
    "import tqdm\n",
    "import matplotlib.pyplot as plt\n",
    "import seaborn as sns\n",
    "warnings.filterwarnings(\"ignore\")\n",
    "pd.options.display.max_columns = 999\n",
    "pd.set_option('display.float_format', lambda x: '{:.3f}'.format(x))\n",
    "import gc\n",
    "from IPython.core.interactiveshell import InteractiveShell\n",
    "InteractiveShell.ast_node_interactivity = \"all\""
   ]
  },
  {
   "cell_type": "code",
   "execution_count": 2,
   "metadata": {},
   "outputs": [],
   "source": [
    "%run '../codes/self_defined_function.py'"
   ]
  },
  {
   "cell_type": "markdown",
   "metadata": {},
   "source": [
    "## preprocessing and feature selection\n",
    "take ArtNr '200032' as example"
   ]
  },
  {
   "cell_type": "code",
   "execution_count": 3,
   "metadata": {},
   "outputs": [],
   "source": [
    "# load data\n",
    "df = pd.read_csv('../data/Artikelbewegungen ab 1996.txt', sep=';', encoding = 'ISO-8859-1', header=None)\n",
    "#df = pd.read_excel('../data/Artikelbewegungen.xlsx')"
   ]
  },
  {
   "cell_type": "code",
   "execution_count": 4,
   "metadata": {},
   "outputs": [],
   "source": [
    "df = preprocessing(df)"
   ]
  },
  {
   "cell_type": "code",
   "execution_count": 5,
   "metadata": {},
   "outputs": [],
   "source": [
    "# continue with preprocessing "
   ]
  },
  {
   "cell_type": "code",
   "execution_count": 17,
   "metadata": {},
   "outputs": [
    {
     "data": {
      "text/html": [
       "<div>\n",
       "<style scoped>\n",
       "    .dataframe tbody tr th:only-of-type {\n",
       "        vertical-align: middle;\n",
       "    }\n",
       "\n",
       "    .dataframe tbody tr th {\n",
       "        vertical-align: top;\n",
       "    }\n",
       "\n",
       "    .dataframe thead th {\n",
       "        text-align: right;\n",
       "    }\n",
       "</style>\n",
       "<table border=\"1\" class=\"dataframe\">\n",
       "  <thead>\n",
       "    <tr style=\"text-align: right;\">\n",
       "      <th></th>\n",
       "      <th>Menge</th>\n",
       "      <th>weekday</th>\n",
       "    </tr>\n",
       "  </thead>\n",
       "  <tbody>\n",
       "    <tr>\n",
       "      <th>count</th>\n",
       "      <td>3715.000</td>\n",
       "      <td>3715.000</td>\n",
       "    </tr>\n",
       "    <tr>\n",
       "      <th>mean</th>\n",
       "      <td>1192.520</td>\n",
       "      <td>2.000</td>\n",
       "    </tr>\n",
       "    <tr>\n",
       "      <th>std</th>\n",
       "      <td>918.446</td>\n",
       "      <td>1.414</td>\n",
       "    </tr>\n",
       "    <tr>\n",
       "      <th>min</th>\n",
       "      <td>0.000</td>\n",
       "      <td>0.000</td>\n",
       "    </tr>\n",
       "    <tr>\n",
       "      <th>25%</th>\n",
       "      <td>480.000</td>\n",
       "      <td>1.000</td>\n",
       "    </tr>\n",
       "    <tr>\n",
       "      <th>50%</th>\n",
       "      <td>1060.000</td>\n",
       "      <td>2.000</td>\n",
       "    </tr>\n",
       "    <tr>\n",
       "      <th>75%</th>\n",
       "      <td>1740.000</td>\n",
       "      <td>3.000</td>\n",
       "    </tr>\n",
       "    <tr>\n",
       "      <th>max</th>\n",
       "      <td>4000.000</td>\n",
       "      <td>4.000</td>\n",
       "    </tr>\n",
       "  </tbody>\n",
       "</table>\n",
       "</div>"
      ],
      "text/plain": [
       "         Menge  weekday\n",
       "count 3715.000 3715.000\n",
       "mean  1192.520    2.000\n",
       "std    918.446    1.414\n",
       "min      0.000    0.000\n",
       "25%    480.000    1.000\n",
       "50%   1060.000    2.000\n",
       "75%   1740.000    3.000\n",
       "max   4000.000    4.000"
      ]
     },
     "execution_count": 17,
     "metadata": {},
     "output_type": "execute_result"
    }
   ],
   "source": [
    "tmp.describe()"
   ]
  },
  {
   "cell_type": "code",
   "execution_count": 30,
   "metadata": {},
   "outputs": [
    {
     "data": {
      "text/plain": [
       "(array([1.925e+03, 7.400e+01, 9.300e+01, 1.250e+02, 1.350e+02, 1.330e+02,\n",
       "        1.600e+02, 1.180e+02, 1.180e+02, 1.760e+02, 8.900e+01, 1.390e+02,\n",
       "        1.820e+02, 1.210e+02, 1.210e+02, 1.330e+02, 1.120e+02, 9.000e+01,\n",
       "        1.200e+02, 1.050e+02, 9.800e+01, 8.600e+01, 5.900e+01, 5.900e+01,\n",
       "        8.400e+01, 5.100e+01, 4.700e+01, 4.900e+01, 4.600e+01, 4.400e+01,\n",
       "        3.900e+01, 3.000e+01, 3.200e+01, 2.100e+01, 2.400e+01, 1.400e+01,\n",
       "        2.100e+01, 1.700e+01, 1.200e+01, 1.100e+01, 6.000e+00, 1.500e+01,\n",
       "        8.000e+00, 7.000e+00, 5.000e+00, 8.000e+00, 6.000e+00, 7.000e+00,\n",
       "        0.000e+00, 1.000e+00, 1.000e+00, 3.000e+00, 1.000e+00, 2.000e+00,\n",
       "        6.000e+00, 1.000e+00, 1.000e+00, 1.000e+00, 2.000e+00, 0.000e+00,\n",
       "        1.000e+00, 0.000e+00, 1.000e+00, 0.000e+00, 1.000e+00, 1.000e+00,\n",
       "        0.000e+00, 1.000e+00, 0.000e+00, 0.000e+00, 0.000e+00, 0.000e+00,\n",
       "        0.000e+00, 0.000e+00, 0.000e+00, 0.000e+00, 0.000e+00, 0.000e+00,\n",
       "        0.000e+00, 0.000e+00, 0.000e+00, 0.000e+00, 1.000e+00, 0.000e+00,\n",
       "        0.000e+00, 0.000e+00, 0.000e+00, 0.000e+00, 0.000e+00, 0.000e+00,\n",
       "        0.000e+00, 0.000e+00, 0.000e+00, 0.000e+00, 0.000e+00, 0.000e+00,\n",
       "        0.000e+00, 0.000e+00, 0.000e+00, 1.000e+00]),\n",
       " array([   0. ,   86.6,  173.2,  259.8,  346.4,  433. ,  519.6,  606.2,\n",
       "         692.8,  779.4,  866. ,  952.6, 1039.2, 1125.8, 1212.4, 1299. ,\n",
       "        1385.6, 1472.2, 1558.8, 1645.4, 1732. , 1818.6, 1905.2, 1991.8,\n",
       "        2078.4, 2165. , 2251.6, 2338.2, 2424.8, 2511.4, 2598. , 2684.6,\n",
       "        2771.2, 2857.8, 2944.4, 3031. , 3117.6, 3204.2, 3290.8, 3377.4,\n",
       "        3464. , 3550.6, 3637.2, 3723.8, 3810.4, 3897. , 3983.6, 4070.2,\n",
       "        4156.8, 4243.4, 4330. , 4416.6, 4503.2, 4589.8, 4676.4, 4763. ,\n",
       "        4849.6, 4936.2, 5022.8, 5109.4, 5196. , 5282.6, 5369.2, 5455.8,\n",
       "        5542.4, 5629. , 5715.6, 5802.2, 5888.8, 5975.4, 6062. , 6148.6,\n",
       "        6235.2, 6321.8, 6408.4, 6495. , 6581.6, 6668.2, 6754.8, 6841.4,\n",
       "        6928. , 7014.6, 7101.2, 7187.8, 7274.4, 7361. , 7447.6, 7534.2,\n",
       "        7620.8, 7707.4, 7794. , 7880.6, 7967.2, 8053.8, 8140.4, 8227. ,\n",
       "        8313.6, 8400.2, 8486.8, 8573.4, 8660. ]),\n",
       " <a list of 100 Patch objects>)"
      ]
     },
     "execution_count": 30,
     "metadata": {},
     "output_type": "execute_result"
    },
    {
     "data": {
      "image/png": "[encoded data removed]",
      "text/plain": [
       "<Figure size 432x288 with 1 Axes>"
      ]
     },
     "metadata": {
      "needs_background": "light"
     },
     "output_type": "display_data"
    }
   ],
   "source": [
    "#plt.hist(tmp[tmp['Menge'] != 0].values, bins=100)\n",
    "plt.hist(tmp.values, bins = 100)"
   ]
  },
  {
   "cell_type": "code",
   "execution_count": 29,
   "metadata": {},
   "outputs": [],
   "source": [
    "# grid table create\n",
    "tmp = create_grid_data_for_an_article('200032', df)"
   ]
  },
  {
   "cell_type": "code",
   "execution_count": 21,
   "metadata": {},
   "outputs": [],
   "source": [
    "# set the top threshold\n",
    "tmp['Menge'] = tmp['Menge'].map(lambda x: x if x < 4000 else 4000)"
   ]
  },
  {
   "cell_type": "code",
   "execution_count": 36,
   "metadata": {},
   "outputs": [],
   "source": [
    "# how to deal with 0 value\n",
    "tmp1 = tmp[tmp['Menge'] == 0]"
   ]
  },
  {
   "cell_type": "code",
   "execution_count": 37,
   "metadata": {},
   "outputs": [
    {
     "data": {
      "text/plain": [
       "4    151\n",
       "0     90\n",
       "3     67\n",
       "2     46\n",
       "1     39\n",
       "Name: weekday, dtype: int64"
      ]
     },
     "execution_count": 37,
     "metadata": {},
     "output_type": "execute_result"
    }
   ],
   "source": [
    "# most 0 value happens in friday and monday\n",
    "tmp1['weekday'].value_counts()"
   ]
  },
  {
   "cell_type": "code",
   "execution_count": null,
   "metadata": {},
   "outputs": [],
   "source": []
  },
  {
   "cell_type": "code",
   "execution_count": null,
   "metadata": {},
   "outputs": [],
   "source": []
  },
  {
   "cell_type": "code",
   "execution_count": null,
   "metadata": {},
   "outputs": [],
   "source": []
  },
  {
   "cell_type": "code",
   "execution_count": 32,
   "metadata": {},
   "outputs": [],
   "source": [
    "# feature selection, only weekday\n",
    "tmp['weekday'] = tmp.index.weekday"
   ]
  },
  {
   "cell_type": "code",
   "execution_count": 33,
   "metadata": {},
   "outputs": [],
   "source": [
    "# remove weekend\n",
    "tmp = tmp[tmp['weekday'] != 5]\n",
    "tmp = tmp[tmp['weekday'] != 6]"
   ]
  },
  {
   "cell_type": "code",
   "execution_count": 11,
   "metadata": {},
   "outputs": [],
   "source": [
    "def extract_dataset_from_timeseries(df, targetname = 'Menge', lookback = 5):\n",
    "    \"\"\"\n",
    "    df should not contain the features, which will not used in the traning of the model\n",
    "    \"\"\"\n",
    "    for i in range(lookback):\n",
    "        df[targetname+'_'+str(i+1)] = df[targetname].shift(i+1)\n",
    "    cols = df.columns.to_list()\n",
    "    cols_x = [i for i in cols if i not in [targetname]]\n",
    "    cols_y = [targetname]\n",
    "    dat_x = df[cols_x].iloc[lookback:, :].values\n",
    "    dat_y = df[cols_y].iloc[lookback:, :].values\n",
    "    return dat_x, dat_y\n",
    "def extract_dataset_from_timeseries_with_diff(df, targetname = 'Menge', lookback = 5):\n",
    "    \"\"\"\n",
    "    df should not contain the features, which will not used in the traning of the model\n",
    "    \"\"\"\n",
    "    for i in range(lookback):\n",
    "        df[targetname+'_'+str(i+1)] = df[targetname].shift(i+1)\n",
    "    if lookback >=5:\n",
    "        df['diff_1'] = df[targetname+'_'+str(1)] - df[targetname+'_'+str(2)]\n",
    "        df['diff_2'] = df[targetname+'_'+str(3)] - df[targetname+'_'+str(4)]\n",
    "        df['diff2_1'] = df['diff_1'] - df['diff_2']\n",
    "    cols = df.columns.to_list()\n",
    "    cols_x = [i for i in cols if i not in [targetname]]\n",
    "    cols_y = [targetname]\n",
    "    dat_x = df[cols_x].iloc[lookback:, :].values\n",
    "    dat_y = df[cols_y].iloc[lookback:, :].values\n",
    "    return dat_x, dat_y"
   ]
  },
  {
   "cell_type": "code",
   "execution_count": 60,
   "metadata": {},
   "outputs": [],
   "source": [
    "# extract dataset for mlp\n",
    "dat_x, dat_y = extract_dataset_from_timeseries_with_diff(tmp, lookback = 20)"
   ]
  },
  {
   "cell_type": "code",
   "execution_count": 12,
   "metadata": {},
   "outputs": [],
   "source": [
    "train_x = dat_x[:2589, :]\n",
    "test_x = dat_x[2589:, :]\n",
    "train_y = dat_y[:2589, :].reshape(-1)\n",
    "test_y = dat_y[2589:, :].reshape(-1)"
   ]
  },
  {
   "cell_type": "code",
   "execution_count": 13,
   "metadata": {},
   "outputs": [],
   "source": [
    "# save to the local system\n",
    "np.save('../data/rnn_train_x', train_x)\n",
    "np.save('../data/rnn_train_y', train_y)\n",
    "np.save('../data/rnn_test_x', test_x)\n",
    "np.save('../data/rnn_test_y', test_y)"
   ]
  },
  {
   "cell_type": "code",
   "execution_count": 12,
   "metadata": {},
   "outputs": [],
   "source": [
    "# extract dataset for lstm\n",
    "dat_x, dat_y = extract_dataset_from_timeseries(tmp[['Menge']], lookback = 20)"
   ]
  },
  {
   "cell_type": "code",
   "execution_count": 13,
   "metadata": {},
   "outputs": [
    {
     "data": {
      "text/plain": [
       "(3695, 20)"
      ]
     },
     "execution_count": 13,
     "metadata": {},
     "output_type": "execute_result"
    }
   ],
   "source": [
    "dat_x.shape"
   ]
  },
  {
   "cell_type": "code",
   "execution_count": 14,
   "metadata": {},
   "outputs": [],
   "source": [
    "train_x = dat_x[:2589, :].reshape(-1, 20, 1)\n",
    "test_x = dat_x[2589:, :].reshape(-1, 20, 1)\n",
    "train_y = dat_y[:2589, :].reshape(-1)\n",
    "test_y = dat_y[2589:, :].reshape(-1)"
   ]
  },
  {
   "cell_type": "code",
   "execution_count": 15,
   "metadata": {},
   "outputs": [],
   "source": [
    "np.save('../data/rnn_train_x', train_x)\n",
    "np.save('../data/rnn_train_y', train_y)\n",
    "np.save('../data/rnn_test_x', test_x)\n",
    "np.save('../data/rnn_test_y', test_y)"
   ]
  },
  {
   "cell_type": "code",
   "execution_count": 115,
   "metadata": {},
   "outputs": [],
   "source": [
    "### test data\n",
    "train_y = train_x[:,1] * 10 + 2 - 3\n",
    "test_y = test_x[:, 1] * 10 + 2 - 3\n",
    "np.save('../data/rnn_train_x', train_x)\n",
    "np.save('../data/rnn_train_y', train_y)\n",
    "np.save('../data/rnn_test_x', test_x)\n",
    "np.save('../data/rnn_test_y', test_y)"
   ]
  },
  {
   "cell_type": "code",
   "execution_count": 160,
   "metadata": {},
   "outputs": [
    {
     "data": {
      "text/plain": [
       "(2589, 4, 1)"
      ]
     },
     "execution_count": 160,
     "metadata": {},
     "output_type": "execute_result"
    }
   ],
   "source": [
    "train_x.shape"
   ]
  },
  {
   "cell_type": "markdown",
   "metadata": {},
   "source": [
    "## train with mlp model"
   ]
  },
  {
   "cell_type": "code",
   "execution_count": 16,
   "metadata": {},
   "outputs": [
    {
     "data": {
      "text/plain": [
       "TS_rnn(\n",
       "  (rnn): LSTM(1, 32, num_layers=2)\n",
       "  (mlp): Sequential(\n",
       "    (0): Linear(in_features=32, out_features=16, bias=True)\n",
       "    (1): Dropout(p=0.5)\n",
       "    (2): ReLU()\n",
       "    (3): Linear(in_features=16, out_features=1, bias=True)\n",
       "  )\n",
       ")"
      ]
     },
     "execution_count": 16,
     "metadata": {},
     "output_type": "execute_result"
    },
    {
     "name": "stdout",
     "output_type": "stream",
     "text": [
      "Train Epoch: 0 [0/2589 (0%)]\tLoss: 1213.930542\n",
      "Train Epoch: 0 [300/2589 (12%)]\tLoss: 979.437317\n",
      "Train Epoch: 0 [600/2589 (23%)]\tLoss: 1360.304077\n",
      "Train Epoch: 0 [900/2589 (35%)]\tLoss: 956.174805\n",
      "Train Epoch: 0 [1200/2589 (46%)]\tLoss: 1059.621338\n",
      "Train Epoch: 0 [1500/2589 (58%)]\tLoss: 1166.532104\n",
      "Train Epoch: 0 [1800/2589 (70%)]\tLoss: 1019.242249\n",
      "Train Epoch: 0 [2100/2589 (81%)]\tLoss: 1054.201660\n",
      "Train Epoch: 0 [2400/2589 (93%)]\tLoss: 1326.783447\n",
      "====> Epoch: 0 Average train loss: 1091.8757\n",
      "====> Epoch: 0 Average test loss: 1146.6466\n"
     ]
    },
    {
     "data": {
      "text/plain": [
       "TS_rnn(\n",
       "  (rnn): LSTM(1, 32, num_layers=2)\n",
       "  (mlp): Sequential(\n",
       "    (0): Linear(in_features=32, out_features=16, bias=True)\n",
       "    (1): Dropout(p=0.5)\n",
       "    (2): ReLU()\n",
       "    (3): Linear(in_features=16, out_features=1, bias=True)\n",
       "  )\n",
       ")"
      ]
     },
     "execution_count": 16,
     "metadata": {},
     "output_type": "execute_result"
    },
    {
     "name": "stdout",
     "output_type": "stream",
     "text": [
      "Train Epoch: 1 [0/2589 (0%)]\tLoss: 1057.894409\n",
      "Train Epoch: 1 [300/2589 (12%)]\tLoss: 867.055725\n",
      "Train Epoch: 1 [600/2589 (23%)]\tLoss: 1134.792358\n",
      "Train Epoch: 1 [900/2589 (35%)]\tLoss: 1027.961670\n",
      "Train Epoch: 1 [1200/2589 (46%)]\tLoss: 1177.401978\n",
      "Train Epoch: 1 [1500/2589 (58%)]\tLoss: 946.346741\n",
      "Train Epoch: 1 [1800/2589 (70%)]\tLoss: 631.236267\n",
      "Train Epoch: 1 [2100/2589 (81%)]\tLoss: 655.593079\n",
      "Train Epoch: 1 [2400/2589 (93%)]\tLoss: 966.473389\n",
      "====> Epoch: 1 Average train loss: 844.2971\n",
      "====> Epoch: 1 Average test loss: 865.6987\n"
     ]
    },
    {
     "data": {
      "text/plain": [
       "TS_rnn(\n",
       "  (rnn): LSTM(1, 32, num_layers=2)\n",
       "  (mlp): Sequential(\n",
       "    (0): Linear(in_features=32, out_features=16, bias=True)\n",
       "    (1): Dropout(p=0.5)\n",
       "    (2): ReLU()\n",
       "    (3): Linear(in_features=16, out_features=1, bias=True)\n",
       "  )\n",
       ")"
      ]
     },
     "execution_count": 16,
     "metadata": {},
     "output_type": "execute_result"
    },
    {
     "name": "stdout",
     "output_type": "stream",
     "text": [
      "Train Epoch: 2 [0/2589 (0%)]\tLoss: 751.483948\n",
      "Train Epoch: 2 [300/2589 (12%)]\tLoss: 745.699768\n",
      "Train Epoch: 2 [600/2589 (23%)]\tLoss: 718.931396\n",
      "Train Epoch: 2 [900/2589 (35%)]\tLoss: 845.124573\n",
      "Train Epoch: 2 [1200/2589 (46%)]\tLoss: 804.793091\n",
      "Train Epoch: 2 [1500/2589 (58%)]\tLoss: 709.468201\n",
      "Train Epoch: 2 [1800/2589 (70%)]\tLoss: 541.533386\n",
      "Train Epoch: 2 [2100/2589 (81%)]\tLoss: 688.235962\n",
      "Train Epoch: 2 [2400/2589 (93%)]\tLoss: 718.265625\n",
      "====> Epoch: 2 Average train loss: 754.9598\n",
      "====> Epoch: 2 Average test loss: 838.4396\n"
     ]
    },
    {
     "data": {
      "text/plain": [
       "TS_rnn(\n",
       "  (rnn): LSTM(1, 32, num_layers=2)\n",
       "  (mlp): Sequential(\n",
       "    (0): Linear(in_features=32, out_features=16, bias=True)\n",
       "    (1): Dropout(p=0.5)\n",
       "    (2): ReLU()\n",
       "    (3): Linear(in_features=16, out_features=1, bias=True)\n",
       "  )\n",
       ")"
      ]
     },
     "execution_count": 16,
     "metadata": {},
     "output_type": "execute_result"
    },
    {
     "name": "stdout",
     "output_type": "stream",
     "text": [
      "Train Epoch: 3 [0/2589 (0%)]\tLoss: 954.245728\n",
      "Train Epoch: 3 [300/2589 (12%)]\tLoss: 797.751343\n",
      "Train Epoch: 3 [600/2589 (23%)]\tLoss: 771.305359\n",
      "Train Epoch: 3 [900/2589 (35%)]\tLoss: 548.688232\n",
      "Train Epoch: 3 [1200/2589 (46%)]\tLoss: 888.230896\n",
      "Train Epoch: 3 [1500/2589 (58%)]\tLoss: 601.101929\n",
      "Train Epoch: 3 [1800/2589 (70%)]\tLoss: 746.789978\n",
      "Train Epoch: 3 [2100/2589 (81%)]\tLoss: 765.699402\n",
      "Train Epoch: 3 [2400/2589 (93%)]\tLoss: 795.913208\n",
      "====> Epoch: 3 Average train loss: 750.4266\n",
      "====> Epoch: 3 Average test loss: 833.7969\n"
     ]
    },
    {
     "data": {
      "text/plain": [
       "TS_rnn(\n",
       "  (rnn): LSTM(1, 32, num_layers=2)\n",
       "  (mlp): Sequential(\n",
       "    (0): Linear(in_features=32, out_features=16, bias=True)\n",
       "    (1): Dropout(p=0.5)\n",
       "    (2): ReLU()\n",
       "    (3): Linear(in_features=16, out_features=1, bias=True)\n",
       "  )\n",
       ")"
      ]
     },
     "execution_count": 16,
     "metadata": {},
     "output_type": "execute_result"
    },
    {
     "name": "stdout",
     "output_type": "stream",
     "text": [
      "Train Epoch: 4 [0/2589 (0%)]\tLoss: 883.401550\n",
      "Train Epoch: 4 [300/2589 (12%)]\tLoss: 856.630798\n",
      "Train Epoch: 4 [600/2589 (23%)]\tLoss: 810.696411\n",
      "Train Epoch: 4 [900/2589 (35%)]\tLoss: 766.316467\n",
      "Train Epoch: 4 [1200/2589 (46%)]\tLoss: 639.830261\n",
      "Train Epoch: 4 [1500/2589 (58%)]\tLoss: 757.001587\n",
      "Train Epoch: 4 [1800/2589 (70%)]\tLoss: 596.687256\n",
      "Train Epoch: 4 [2100/2589 (81%)]\tLoss: 869.160767\n",
      "Train Epoch: 4 [2400/2589 (93%)]\tLoss: 760.244507\n",
      "====> Epoch: 4 Average train loss: 751.9179\n",
      "====> Epoch: 4 Average test loss: 832.0529\n"
     ]
    },
    {
     "data": {
      "text/plain": [
       "TS_rnn(\n",
       "  (rnn): LSTM(1, 32, num_layers=2)\n",
       "  (mlp): Sequential(\n",
       "    (0): Linear(in_features=32, out_features=16, bias=True)\n",
       "    (1): Dropout(p=0.5)\n",
       "    (2): ReLU()\n",
       "    (3): Linear(in_features=16, out_features=1, bias=True)\n",
       "  )\n",
       ")"
      ]
     },
     "execution_count": 16,
     "metadata": {},
     "output_type": "execute_result"
    },
    {
     "name": "stdout",
     "output_type": "stream",
     "text": [
      "Train Epoch: 5 [0/2589 (0%)]\tLoss: 819.407288\n",
      "Train Epoch: 5 [300/2589 (12%)]\tLoss: 675.884644\n",
      "Train Epoch: 5 [600/2589 (23%)]\tLoss: 635.250061\n",
      "Train Epoch: 5 [900/2589 (35%)]\tLoss: 816.765991\n",
      "Train Epoch: 5 [1200/2589 (46%)]\tLoss: 667.954468\n",
      "Train Epoch: 5 [1500/2589 (58%)]\tLoss: 877.106689\n",
      "Train Epoch: 5 [1800/2589 (70%)]\tLoss: 772.575806\n",
      "Train Epoch: 5 [2100/2589 (81%)]\tLoss: 685.782288\n",
      "Train Epoch: 5 [2400/2589 (93%)]\tLoss: 787.690552\n",
      "====> Epoch: 5 Average train loss: 766.7702\n",
      "====> Epoch: 5 Average test loss: 840.2310\n"
     ]
    },
    {
     "data": {
      "text/plain": [
       "TS_rnn(\n",
       "  (rnn): LSTM(1, 32, num_layers=2)\n",
       "  (mlp): Sequential(\n",
       "    (0): Linear(in_features=32, out_features=16, bias=True)\n",
       "    (1): Dropout(p=0.5)\n",
       "    (2): ReLU()\n",
       "    (3): Linear(in_features=16, out_features=1, bias=True)\n",
       "  )\n",
       ")"
      ]
     },
     "execution_count": 16,
     "metadata": {},
     "output_type": "execute_result"
    },
    {
     "name": "stdout",
     "output_type": "stream",
     "text": [
      "Train Epoch: 6 [0/2589 (0%)]\tLoss: 755.150330\n",
      "Train Epoch: 6 [300/2589 (12%)]\tLoss: 793.222839\n",
      "Train Epoch: 6 [600/2589 (23%)]\tLoss: 842.314880\n",
      "Train Epoch: 6 [900/2589 (35%)]\tLoss: 618.432373\n",
      "Train Epoch: 6 [1200/2589 (46%)]\tLoss: 978.135864\n",
      "Train Epoch: 6 [1500/2589 (58%)]\tLoss: 691.671326\n",
      "Train Epoch: 6 [1800/2589 (70%)]\tLoss: 784.105469\n",
      "Train Epoch: 6 [2100/2589 (81%)]\tLoss: 810.665405\n",
      "Train Epoch: 6 [2400/2589 (93%)]\tLoss: 774.926392\n",
      "====> Epoch: 6 Average train loss: 761.1086\n",
      "====> Epoch: 6 Average test loss: 839.4348\n"
     ]
    },
    {
     "data": {
      "text/plain": [
       "TS_rnn(\n",
       "  (rnn): LSTM(1, 32, num_layers=2)\n",
       "  (mlp): Sequential(\n",
       "    (0): Linear(in_features=32, out_features=16, bias=True)\n",
       "    (1): Dropout(p=0.5)\n",
       "    (2): ReLU()\n",
       "    (3): Linear(in_features=16, out_features=1, bias=True)\n",
       "  )\n",
       ")"
      ]
     },
     "execution_count": 16,
     "metadata": {},
     "output_type": "execute_result"
    },
    {
     "name": "stdout",
     "output_type": "stream",
     "text": [
      "Train Epoch: 7 [0/2589 (0%)]\tLoss: 788.692017\n",
      "Train Epoch: 7 [300/2589 (12%)]\tLoss: 908.909119\n",
      "Train Epoch: 7 [600/2589 (23%)]\tLoss: 884.097900\n",
      "Train Epoch: 7 [900/2589 (35%)]\tLoss: 727.809570\n",
      "Train Epoch: 7 [1200/2589 (46%)]\tLoss: 872.305420\n",
      "Train Epoch: 7 [1500/2589 (58%)]\tLoss: 739.407532\n",
      "Train Epoch: 7 [1800/2589 (70%)]\tLoss: 936.546021\n",
      "Train Epoch: 7 [2100/2589 (81%)]\tLoss: 849.156311\n",
      "Train Epoch: 7 [2400/2589 (93%)]\tLoss: 726.782104\n",
      "====> Epoch: 7 Average train loss: 771.6732\n",
      "====> Epoch: 7 Average test loss: 836.2278\n"
     ]
    },
    {
     "data": {
      "text/plain": [
       "TS_rnn(\n",
       "  (rnn): LSTM(1, 32, num_layers=2)\n",
       "  (mlp): Sequential(\n",
       "    (0): Linear(in_features=32, out_features=16, bias=True)\n",
       "    (1): Dropout(p=0.5)\n",
       "    (2): ReLU()\n",
       "    (3): Linear(in_features=16, out_features=1, bias=True)\n",
       "  )\n",
       ")"
      ]
     },
     "execution_count": 16,
     "metadata": {},
     "output_type": "execute_result"
    },
    {
     "name": "stdout",
     "output_type": "stream",
     "text": [
      "Train Epoch: 8 [0/2589 (0%)]\tLoss: 820.538269\n",
      "Train Epoch: 8 [300/2589 (12%)]\tLoss: 758.340454\n",
      "Train Epoch: 8 [600/2589 (23%)]\tLoss: 731.010437\n",
      "Train Epoch: 8 [900/2589 (35%)]\tLoss: 857.628662\n",
      "Train Epoch: 8 [1200/2589 (46%)]\tLoss: 650.703369\n",
      "Train Epoch: 8 [1500/2589 (58%)]\tLoss: 598.777527\n",
      "Train Epoch: 8 [1800/2589 (70%)]\tLoss: 835.038635\n",
      "Train Epoch: 8 [2100/2589 (81%)]\tLoss: 705.046875\n",
      "Train Epoch: 8 [2400/2589 (93%)]\tLoss: 673.304749\n",
      "====> Epoch: 8 Average train loss: 765.0901\n",
      "====> Epoch: 8 Average test loss: 833.0532\n"
     ]
    },
    {
     "data": {
      "text/plain": [
       "TS_rnn(\n",
       "  (rnn): LSTM(1, 32, num_layers=2)\n",
       "  (mlp): Sequential(\n",
       "    (0): Linear(in_features=32, out_features=16, bias=True)\n",
       "    (1): Dropout(p=0.5)\n",
       "    (2): ReLU()\n",
       "    (3): Linear(in_features=16, out_features=1, bias=True)\n",
       "  )\n",
       ")"
      ]
     },
     "execution_count": 16,
     "metadata": {},
     "output_type": "execute_result"
    },
    {
     "name": "stdout",
     "output_type": "stream",
     "text": [
      "Train Epoch: 9 [0/2589 (0%)]\tLoss: 675.480591\n",
      "Train Epoch: 9 [300/2589 (12%)]\tLoss: 864.487610\n",
      "Train Epoch: 9 [600/2589 (23%)]\tLoss: 795.615540\n",
      "Train Epoch: 9 [900/2589 (35%)]\tLoss: 741.410034\n",
      "Train Epoch: 9 [1200/2589 (46%)]\tLoss: 873.771240\n",
      "Train Epoch: 9 [1500/2589 (58%)]\tLoss: 862.873901\n",
      "Train Epoch: 9 [1800/2589 (70%)]\tLoss: 767.767395\n",
      "Train Epoch: 9 [2100/2589 (81%)]\tLoss: 860.707275\n",
      "Train Epoch: 9 [2400/2589 (93%)]\tLoss: 827.013855\n",
      "====> Epoch: 9 Average train loss: 754.0366\n",
      "====> Epoch: 9 Average test loss: 835.3849\n"
     ]
    },
    {
     "data": {
      "text/plain": [
       "TS_rnn(\n",
       "  (rnn): LSTM(1, 32, num_layers=2)\n",
       "  (mlp): Sequential(\n",
       "    (0): Linear(in_features=32, out_features=16, bias=True)\n",
       "    (1): Dropout(p=0.5)\n",
       "    (2): ReLU()\n",
       "    (3): Linear(in_features=16, out_features=1, bias=True)\n",
       "  )\n",
       ")"
      ]
     },
     "execution_count": 16,
     "metadata": {},
     "output_type": "execute_result"
    },
    {
     "name": "stdout",
     "output_type": "stream",
     "text": [
      "Train Epoch: 10 [0/2589 (0%)]\tLoss: 765.734924\n",
      "Train Epoch: 10 [300/2589 (12%)]\tLoss: 788.919617\n",
      "Train Epoch: 10 [600/2589 (23%)]\tLoss: 686.997253\n",
      "Train Epoch: 10 [900/2589 (35%)]\tLoss: 853.217834\n",
      "Train Epoch: 10 [1200/2589 (46%)]\tLoss: 496.992401\n",
      "Train Epoch: 10 [1500/2589 (58%)]\tLoss: 898.346252\n",
      "Train Epoch: 10 [1800/2589 (70%)]\tLoss: 800.065125\n",
      "Train Epoch: 10 [2100/2589 (81%)]\tLoss: 931.353455\n",
      "Train Epoch: 10 [2400/2589 (93%)]\tLoss: 913.159607\n",
      "====> Epoch: 10 Average train loss: 760.7936\n",
      "====> Epoch: 10 Average test loss: 831.9698\n"
     ]
    },
    {
     "data": {
      "text/plain": [
       "TS_rnn(\n",
       "  (rnn): LSTM(1, 32, num_layers=2)\n",
       "  (mlp): Sequential(\n",
       "    (0): Linear(in_features=32, out_features=16, bias=True)\n",
       "    (1): Dropout(p=0.5)\n",
       "    (2): ReLU()\n",
       "    (3): Linear(in_features=16, out_features=1, bias=True)\n",
       "  )\n",
       ")"
      ]
     },
     "execution_count": 16,
     "metadata": {},
     "output_type": "execute_result"
    },
    {
     "name": "stdout",
     "output_type": "stream",
     "text": [
      "Train Epoch: 11 [0/2589 (0%)]\tLoss: 739.729065\n",
      "Train Epoch: 11 [300/2589 (12%)]\tLoss: 955.705750\n",
      "Train Epoch: 11 [600/2589 (23%)]\tLoss: 813.133118\n",
      "Train Epoch: 11 [900/2589 (35%)]\tLoss: 720.044739\n",
      "Train Epoch: 11 [1200/2589 (46%)]\tLoss: 776.379639\n",
      "Train Epoch: 11 [1500/2589 (58%)]\tLoss: 710.125427\n",
      "Train Epoch: 11 [1800/2589 (70%)]\tLoss: 769.786743\n",
      "Train Epoch: 11 [2100/2589 (81%)]\tLoss: 559.527710\n",
      "Train Epoch: 11 [2400/2589 (93%)]\tLoss: 674.421997\n",
      "====> Epoch: 11 Average train loss: 769.6139\n",
      "====> Epoch: 11 Average test loss: 835.4943\n"
     ]
    },
    {
     "data": {
      "text/plain": [
       "TS_rnn(\n",
       "  (rnn): LSTM(1, 32, num_layers=2)\n",
       "  (mlp): Sequential(\n",
       "    (0): Linear(in_features=32, out_features=16, bias=True)\n",
       "    (1): Dropout(p=0.5)\n",
       "    (2): ReLU()\n",
       "    (3): Linear(in_features=16, out_features=1, bias=True)\n",
       "  )\n",
       ")"
      ]
     },
     "execution_count": 16,
     "metadata": {},
     "output_type": "execute_result"
    },
    {
     "name": "stdout",
     "output_type": "stream",
     "text": [
      "Train Epoch: 12 [0/2589 (0%)]\tLoss: 839.397034\n",
      "Train Epoch: 12 [300/2589 (12%)]\tLoss: 1039.471069\n",
      "Train Epoch: 12 [600/2589 (23%)]\tLoss: 717.683777\n",
      "Train Epoch: 12 [900/2589 (35%)]\tLoss: 880.494507\n",
      "Train Epoch: 12 [1200/2589 (46%)]\tLoss: 834.719482\n",
      "Train Epoch: 12 [1500/2589 (58%)]\tLoss: 873.947205\n",
      "Train Epoch: 12 [1800/2589 (70%)]\tLoss: 666.799377\n",
      "Train Epoch: 12 [2100/2589 (81%)]\tLoss: 684.086304\n",
      "Train Epoch: 12 [2400/2589 (93%)]\tLoss: 837.934875\n",
      "====> Epoch: 12 Average train loss: 760.3569\n",
      "====> Epoch: 12 Average test loss: 833.1687\n"
     ]
    },
    {
     "data": {
      "text/plain": [
       "TS_rnn(\n",
       "  (rnn): LSTM(1, 32, num_layers=2)\n",
       "  (mlp): Sequential(\n",
       "    (0): Linear(in_features=32, out_features=16, bias=True)\n",
       "    (1): Dropout(p=0.5)\n",
       "    (2): ReLU()\n",
       "    (3): Linear(in_features=16, out_features=1, bias=True)\n",
       "  )\n",
       ")"
      ]
     },
     "execution_count": 16,
     "metadata": {},
     "output_type": "execute_result"
    },
    {
     "name": "stdout",
     "output_type": "stream",
     "text": [
      "Train Epoch: 13 [0/2589 (0%)]\tLoss: 859.217102\n",
      "Train Epoch: 13 [300/2589 (12%)]\tLoss: 892.219116\n",
      "Train Epoch: 13 [600/2589 (23%)]\tLoss: 806.503723\n",
      "Train Epoch: 13 [900/2589 (35%)]\tLoss: 897.145264\n",
      "Train Epoch: 13 [1200/2589 (46%)]\tLoss: 676.965515\n",
      "Train Epoch: 13 [1500/2589 (58%)]\tLoss: 808.849243\n",
      "Train Epoch: 13 [1800/2589 (70%)]\tLoss: 702.770142\n",
      "Train Epoch: 13 [2100/2589 (81%)]\tLoss: 662.166565\n",
      "Train Epoch: 13 [2400/2589 (93%)]\tLoss: 646.938477\n",
      "====> Epoch: 13 Average train loss: 766.1547\n",
      "====> Epoch: 13 Average test loss: 832.3559\n"
     ]
    },
    {
     "data": {
      "text/plain": [
       "TS_rnn(\n",
       "  (rnn): LSTM(1, 32, num_layers=2)\n",
       "  (mlp): Sequential(\n",
       "    (0): Linear(in_features=32, out_features=16, bias=True)\n",
       "    (1): Dropout(p=0.5)\n",
       "    (2): ReLU()\n",
       "    (3): Linear(in_features=16, out_features=1, bias=True)\n",
       "  )\n",
       ")"
      ]
     },
     "execution_count": 16,
     "metadata": {},
     "output_type": "execute_result"
    },
    {
     "name": "stdout",
     "output_type": "stream",
     "text": [
      "Train Epoch: 14 [0/2589 (0%)]\tLoss: 697.216858\n",
      "Train Epoch: 14 [300/2589 (12%)]\tLoss: 807.639954\n",
      "Train Epoch: 14 [600/2589 (23%)]\tLoss: 639.093506\n",
      "Train Epoch: 14 [900/2589 (35%)]\tLoss: 891.853149\n",
      "Train Epoch: 14 [1200/2589 (46%)]\tLoss: 710.519836\n",
      "Train Epoch: 14 [1500/2589 (58%)]\tLoss: 753.007629\n",
      "Train Epoch: 14 [1800/2589 (70%)]\tLoss: 690.529907\n",
      "Train Epoch: 14 [2100/2589 (81%)]\tLoss: 704.386841\n",
      "Train Epoch: 14 [2400/2589 (93%)]\tLoss: 644.329956\n",
      "====> Epoch: 14 Average train loss: 775.4877\n",
      "====> Epoch: 14 Average test loss: 846.7535\n"
     ]
    },
    {
     "data": {
      "text/plain": [
       "TS_rnn(\n",
       "  (rnn): LSTM(1, 32, num_layers=2)\n",
       "  (mlp): Sequential(\n",
       "    (0): Linear(in_features=32, out_features=16, bias=True)\n",
       "    (1): Dropout(p=0.5)\n",
       "    (2): ReLU()\n",
       "    (3): Linear(in_features=16, out_features=1, bias=True)\n",
       "  )\n",
       ")"
      ]
     },
     "execution_count": 16,
     "metadata": {},
     "output_type": "execute_result"
    },
    {
     "name": "stdout",
     "output_type": "stream",
     "text": [
      "Train Epoch: 15 [0/2589 (0%)]\tLoss: 783.566467\n",
      "Train Epoch: 15 [300/2589 (12%)]\tLoss: 640.896362\n",
      "Train Epoch: 15 [600/2589 (23%)]\tLoss: 831.898376\n",
      "Train Epoch: 15 [900/2589 (35%)]\tLoss: 947.008545\n",
      "Train Epoch: 15 [1200/2589 (46%)]\tLoss: 780.208862\n",
      "Train Epoch: 15 [1500/2589 (58%)]\tLoss: 811.308044\n",
      "Train Epoch: 15 [1800/2589 (70%)]\tLoss: 805.155457\n",
      "Train Epoch: 15 [2100/2589 (81%)]\tLoss: 866.761475\n",
      "Train Epoch: 15 [2400/2589 (93%)]\tLoss: 841.126099\n",
      "====> Epoch: 15 Average train loss: 754.2174\n",
      "====> Epoch: 15 Average test loss: 820.7224\n"
     ]
    },
    {
     "data": {
      "text/plain": [
       "TS_rnn(\n",
       "  (rnn): LSTM(1, 32, num_layers=2)\n",
       "  (mlp): Sequential(\n",
       "    (0): Linear(in_features=32, out_features=16, bias=True)\n",
       "    (1): Dropout(p=0.5)\n",
       "    (2): ReLU()\n",
       "    (3): Linear(in_features=16, out_features=1, bias=True)\n",
       "  )\n",
       ")"
      ]
     },
     "execution_count": 16,
     "metadata": {},
     "output_type": "execute_result"
    },
    {
     "name": "stdout",
     "output_type": "stream",
     "text": [
      "Train Epoch: 16 [0/2589 (0%)]\tLoss: 781.894775\n",
      "Train Epoch: 16 [300/2589 (12%)]\tLoss: 1070.072632\n",
      "Train Epoch: 16 [600/2589 (23%)]\tLoss: 774.820007\n",
      "Train Epoch: 16 [900/2589 (35%)]\tLoss: 659.984619\n",
      "Train Epoch: 16 [1200/2589 (46%)]\tLoss: 660.285522\n",
      "Train Epoch: 16 [1500/2589 (58%)]\tLoss: 562.529541\n",
      "Train Epoch: 16 [1800/2589 (70%)]\tLoss: 778.877380\n",
      "Train Epoch: 16 [2100/2589 (81%)]\tLoss: 812.870300\n",
      "Train Epoch: 16 [2400/2589 (93%)]\tLoss: 727.960571\n",
      "====> Epoch: 16 Average train loss: 735.3920\n",
      "====> Epoch: 16 Average test loss: 829.7560\n"
     ]
    },
    {
     "data": {
      "text/plain": [
       "TS_rnn(\n",
       "  (rnn): LSTM(1, 32, num_layers=2)\n",
       "  (mlp): Sequential(\n",
       "    (0): Linear(in_features=32, out_features=16, bias=True)\n",
       "    (1): Dropout(p=0.5)\n",
       "    (2): ReLU()\n",
       "    (3): Linear(in_features=16, out_features=1, bias=True)\n",
       "  )\n",
       ")"
      ]
     },
     "execution_count": 16,
     "metadata": {},
     "output_type": "execute_result"
    },
    {
     "name": "stdout",
     "output_type": "stream",
     "text": [
      "Train Epoch: 17 [0/2589 (0%)]\tLoss: 721.478455\n",
      "Train Epoch: 17 [300/2589 (12%)]\tLoss: 752.137756\n",
      "Train Epoch: 17 [600/2589 (23%)]\tLoss: 700.192200\n",
      "Train Epoch: 17 [900/2589 (35%)]\tLoss: 804.319397\n",
      "Train Epoch: 17 [1200/2589 (46%)]\tLoss: 696.534485\n",
      "Train Epoch: 17 [1500/2589 (58%)]\tLoss: 718.060547\n",
      "Train Epoch: 17 [1800/2589 (70%)]\tLoss: 627.128113\n",
      "Train Epoch: 17 [2100/2589 (81%)]\tLoss: 713.367249\n",
      "Train Epoch: 17 [2400/2589 (93%)]\tLoss: 737.840271\n",
      "====> Epoch: 17 Average train loss: 742.6791\n",
      "====> Epoch: 17 Average test loss: 823.3204\n"
     ]
    },
    {
     "data": {
      "text/plain": [
       "TS_rnn(\n",
       "  (rnn): LSTM(1, 32, num_layers=2)\n",
       "  (mlp): Sequential(\n",
       "    (0): Linear(in_features=32, out_features=16, bias=True)\n",
       "    (1): Dropout(p=0.5)\n",
       "    (2): ReLU()\n",
       "    (3): Linear(in_features=16, out_features=1, bias=True)\n",
       "  )\n",
       ")"
      ]
     },
     "execution_count": 16,
     "metadata": {},
     "output_type": "execute_result"
    },
    {
     "name": "stdout",
     "output_type": "stream",
     "text": [
      "Train Epoch: 18 [0/2589 (0%)]\tLoss: 757.833801\n",
      "Train Epoch: 18 [300/2589 (12%)]\tLoss: 766.884521\n",
      "Train Epoch: 18 [600/2589 (23%)]\tLoss: 696.964905\n",
      "Train Epoch: 18 [900/2589 (35%)]\tLoss: 610.772888\n",
      "Train Epoch: 18 [1200/2589 (46%)]\tLoss: 649.961365\n",
      "Train Epoch: 18 [1500/2589 (58%)]\tLoss: 635.100525\n",
      "Train Epoch: 18 [1800/2589 (70%)]\tLoss: 852.682739\n",
      "Train Epoch: 18 [2100/2589 (81%)]\tLoss: 924.190186\n",
      "Train Epoch: 18 [2400/2589 (93%)]\tLoss: 868.872070\n",
      "====> Epoch: 18 Average train loss: 759.5580\n",
      "====> Epoch: 18 Average test loss: 827.0579\n"
     ]
    },
    {
     "data": {
      "text/plain": [
       "TS_rnn(\n",
       "  (rnn): LSTM(1, 32, num_layers=2)\n",
       "  (mlp): Sequential(\n",
       "    (0): Linear(in_features=32, out_features=16, bias=True)\n",
       "    (1): Dropout(p=0.5)\n",
       "    (2): ReLU()\n",
       "    (3): Linear(in_features=16, out_features=1, bias=True)\n",
       "  )\n",
       ")"
      ]
     },
     "execution_count": 16,
     "metadata": {},
     "output_type": "execute_result"
    },
    {
     "name": "stdout",
     "output_type": "stream",
     "text": [
      "Train Epoch: 19 [0/2589 (0%)]\tLoss: 587.835571\n",
      "Train Epoch: 19 [300/2589 (12%)]\tLoss: 845.394775\n",
      "Train Epoch: 19 [600/2589 (23%)]\tLoss: 959.901794\n",
      "Train Epoch: 19 [900/2589 (35%)]\tLoss: 547.319763\n",
      "Train Epoch: 19 [1200/2589 (46%)]\tLoss: 637.096741\n",
      "Train Epoch: 19 [1500/2589 (58%)]\tLoss: 599.039246\n",
      "Train Epoch: 19 [1800/2589 (70%)]\tLoss: 646.713013\n",
      "Train Epoch: 19 [2100/2589 (81%)]\tLoss: 898.079956\n",
      "Train Epoch: 19 [2400/2589 (93%)]\tLoss: 839.870239\n",
      "====> Epoch: 19 Average train loss: 744.8412\n",
      "====> Epoch: 19 Average test loss: 838.6240\n"
     ]
    },
    {
     "data": {
      "text/plain": [
       "TS_rnn(\n",
       "  (rnn): LSTM(1, 32, num_layers=2)\n",
       "  (mlp): Sequential(\n",
       "    (0): Linear(in_features=32, out_features=16, bias=True)\n",
       "    (1): Dropout(p=0.5)\n",
       "    (2): ReLU()\n",
       "    (3): Linear(in_features=16, out_features=1, bias=True)\n",
       "  )\n",
       ")"
      ]
     },
     "execution_count": 16,
     "metadata": {},
     "output_type": "execute_result"
    },
    {
     "name": "stdout",
     "output_type": "stream",
     "text": [
      "Train Epoch: 20 [0/2589 (0%)]\tLoss: 616.629333\n",
      "Train Epoch: 20 [300/2589 (12%)]\tLoss: 618.986877\n",
      "Train Epoch: 20 [600/2589 (23%)]\tLoss: 654.018555\n",
      "Train Epoch: 20 [900/2589 (35%)]\tLoss: 687.433594\n",
      "Train Epoch: 20 [1200/2589 (46%)]\tLoss: 820.322998\n",
      "Train Epoch: 20 [1500/2589 (58%)]\tLoss: 628.676392\n",
      "Train Epoch: 20 [1800/2589 (70%)]\tLoss: 820.740051\n",
      "Train Epoch: 20 [2100/2589 (81%)]\tLoss: 622.204834\n",
      "Train Epoch: 20 [2400/2589 (93%)]\tLoss: 868.838501\n",
      "====> Epoch: 20 Average train loss: 753.1851\n",
      "====> Epoch: 20 Average test loss: 834.9565\n"
     ]
    },
    {
     "data": {
      "text/plain": [
       "TS_rnn(\n",
       "  (rnn): LSTM(1, 32, num_layers=2)\n",
       "  (mlp): Sequential(\n",
       "    (0): Linear(in_features=32, out_features=16, bias=True)\n",
       "    (1): Dropout(p=0.5)\n",
       "    (2): ReLU()\n",
       "    (3): Linear(in_features=16, out_features=1, bias=True)\n",
       "  )\n",
       ")"
      ]
     },
     "execution_count": 16,
     "metadata": {},
     "output_type": "execute_result"
    },
    {
     "name": "stdout",
     "output_type": "stream",
     "text": [
      "Train Epoch: 21 [0/2589 (0%)]\tLoss: 828.476257\n",
      "Train Epoch: 21 [300/2589 (12%)]\tLoss: 597.676086\n",
      "Train Epoch: 21 [600/2589 (23%)]\tLoss: 960.156616\n",
      "Train Epoch: 21 [900/2589 (35%)]\tLoss: 717.299805\n",
      "Train Epoch: 21 [1200/2589 (46%)]\tLoss: 584.376221\n",
      "Train Epoch: 21 [1500/2589 (58%)]\tLoss: 673.412048\n",
      "Train Epoch: 21 [1800/2589 (70%)]\tLoss: 875.103088\n",
      "Train Epoch: 21 [2100/2589 (81%)]\tLoss: 793.744873\n",
      "Train Epoch: 21 [2400/2589 (93%)]\tLoss: 631.397644\n",
      "====> Epoch: 21 Average train loss: 739.2797\n",
      "====> Epoch: 21 Average test loss: 834.5909\n"
     ]
    },
    {
     "data": {
      "text/plain": [
       "TS_rnn(\n",
       "  (rnn): LSTM(1, 32, num_layers=2)\n",
       "  (mlp): Sequential(\n",
       "    (0): Linear(in_features=32, out_features=16, bias=True)\n",
       "    (1): Dropout(p=0.5)\n",
       "    (2): ReLU()\n",
       "    (3): Linear(in_features=16, out_features=1, bias=True)\n",
       "  )\n",
       ")"
      ]
     },
     "execution_count": 16,
     "metadata": {},
     "output_type": "execute_result"
    },
    {
     "name": "stdout",
     "output_type": "stream",
     "text": [
      "Train Epoch: 22 [0/2589 (0%)]\tLoss: 589.976562\n",
      "Train Epoch: 22 [300/2589 (12%)]\tLoss: 801.506165\n",
      "Train Epoch: 22 [600/2589 (23%)]\tLoss: 739.684326\n",
      "Train Epoch: 22 [900/2589 (35%)]\tLoss: 745.496399\n",
      "Train Epoch: 22 [1200/2589 (46%)]\tLoss: 570.844666\n",
      "Train Epoch: 22 [1500/2589 (58%)]\tLoss: 698.355042\n",
      "Train Epoch: 22 [1800/2589 (70%)]\tLoss: 716.744507\n",
      "Train Epoch: 22 [2100/2589 (81%)]\tLoss: 931.545471\n",
      "Train Epoch: 22 [2400/2589 (93%)]\tLoss: 772.037720\n",
      "====> Epoch: 22 Average train loss: 740.1249\n",
      "====> Epoch: 22 Average test loss: 847.7665\n"
     ]
    },
    {
     "data": {
      "text/plain": [
       "TS_rnn(\n",
       "  (rnn): LSTM(1, 32, num_layers=2)\n",
       "  (mlp): Sequential(\n",
       "    (0): Linear(in_features=32, out_features=16, bias=True)\n",
       "    (1): Dropout(p=0.5)\n",
       "    (2): ReLU()\n",
       "    (3): Linear(in_features=16, out_features=1, bias=True)\n",
       "  )\n",
       ")"
      ]
     },
     "execution_count": 16,
     "metadata": {},
     "output_type": "execute_result"
    },
    {
     "name": "stdout",
     "output_type": "stream",
     "text": [
      "Train Epoch: 23 [0/2589 (0%)]\tLoss: 766.777344\n",
      "Train Epoch: 23 [300/2589 (12%)]\tLoss: 928.511841\n",
      "Train Epoch: 23 [600/2589 (23%)]\tLoss: 489.869629\n",
      "Train Epoch: 23 [900/2589 (35%)]\tLoss: 591.541870\n",
      "Train Epoch: 23 [1200/2589 (46%)]\tLoss: 899.146118\n",
      "Train Epoch: 23 [1500/2589 (58%)]\tLoss: 676.046692\n",
      "Train Epoch: 23 [1800/2589 (70%)]\tLoss: 847.230469\n",
      "Train Epoch: 23 [2100/2589 (81%)]\tLoss: 1057.357666\n",
      "Train Epoch: 23 [2400/2589 (93%)]\tLoss: 528.330383\n",
      "====> Epoch: 23 Average train loss: 741.6069\n",
      "====> Epoch: 23 Average test loss: 854.3422\n"
     ]
    },
    {
     "data": {
      "text/plain": [
       "TS_rnn(\n",
       "  (rnn): LSTM(1, 32, num_layers=2)\n",
       "  (mlp): Sequential(\n",
       "    (0): Linear(in_features=32, out_features=16, bias=True)\n",
       "    (1): Dropout(p=0.5)\n",
       "    (2): ReLU()\n",
       "    (3): Linear(in_features=16, out_features=1, bias=True)\n",
       "  )\n",
       ")"
      ]
     },
     "execution_count": 16,
     "metadata": {},
     "output_type": "execute_result"
    },
    {
     "name": "stdout",
     "output_type": "stream",
     "text": [
      "Train Epoch: 24 [0/2589 (0%)]\tLoss: 843.119202\n",
      "Train Epoch: 24 [300/2589 (12%)]\tLoss: 813.208435\n",
      "Train Epoch: 24 [600/2589 (23%)]\tLoss: 707.351624\n",
      "Train Epoch: 24 [900/2589 (35%)]\tLoss: 913.755615\n",
      "Train Epoch: 24 [1200/2589 (46%)]\tLoss: 736.783386\n",
      "Train Epoch: 24 [1500/2589 (58%)]\tLoss: 530.866211\n",
      "Train Epoch: 24 [1800/2589 (70%)]\tLoss: 645.094604\n",
      "Train Epoch: 24 [2100/2589 (81%)]\tLoss: 1034.004272\n",
      "Train Epoch: 24 [2400/2589 (93%)]\tLoss: 687.150696\n",
      "====> Epoch: 24 Average train loss: 740.5492\n",
      "====> Epoch: 24 Average test loss: 858.3000\n"
     ]
    },
    {
     "data": {
      "text/plain": [
       "TS_rnn(\n",
       "  (rnn): LSTM(1, 32, num_layers=2)\n",
       "  (mlp): Sequential(\n",
       "    (0): Linear(in_features=32, out_features=16, bias=True)\n",
       "    (1): Dropout(p=0.5)\n",
       "    (2): ReLU()\n",
       "    (3): Linear(in_features=16, out_features=1, bias=True)\n",
       "  )\n",
       ")"
      ]
     },
     "execution_count": 16,
     "metadata": {},
     "output_type": "execute_result"
    },
    {
     "name": "stdout",
     "output_type": "stream",
     "text": [
      "Train Epoch: 25 [0/2589 (0%)]\tLoss: 604.706665\n",
      "Train Epoch: 25 [300/2589 (12%)]\tLoss: 672.872437\n",
      "Train Epoch: 25 [600/2589 (23%)]\tLoss: 466.740021\n",
      "Train Epoch: 25 [900/2589 (35%)]\tLoss: 866.111938\n",
      "Train Epoch: 25 [1200/2589 (46%)]\tLoss: 820.525757\n",
      "Train Epoch: 25 [1500/2589 (58%)]\tLoss: 835.866089\n",
      "Train Epoch: 25 [1800/2589 (70%)]\tLoss: 836.416382\n",
      "Train Epoch: 25 [2100/2589 (81%)]\tLoss: 802.110168\n",
      "Train Epoch: 25 [2400/2589 (93%)]\tLoss: 701.671204\n",
      "====> Epoch: 25 Average train loss: 737.9146\n",
      "====> Epoch: 25 Average test loss: 842.9754\n"
     ]
    },
    {
     "data": {
      "text/plain": [
       "TS_rnn(\n",
       "  (rnn): LSTM(1, 32, num_layers=2)\n",
       "  (mlp): Sequential(\n",
       "    (0): Linear(in_features=32, out_features=16, bias=True)\n",
       "    (1): Dropout(p=0.5)\n",
       "    (2): ReLU()\n",
       "    (3): Linear(in_features=16, out_features=1, bias=True)\n",
       "  )\n",
       ")"
      ]
     },
     "execution_count": 16,
     "metadata": {},
     "output_type": "execute_result"
    },
    {
     "name": "stdout",
     "output_type": "stream",
     "text": [
      "Train Epoch: 26 [0/2589 (0%)]\tLoss: 649.439697\n",
      "Train Epoch: 26 [300/2589 (12%)]\tLoss: 683.576172\n",
      "Train Epoch: 26 [600/2589 (23%)]\tLoss: 821.312256\n",
      "Train Epoch: 26 [900/2589 (35%)]\tLoss: 626.469299\n",
      "Train Epoch: 26 [1200/2589 (46%)]\tLoss: 858.968506\n",
      "Train Epoch: 26 [1500/2589 (58%)]\tLoss: 678.163086\n",
      "Train Epoch: 26 [1800/2589 (70%)]\tLoss: 690.571533\n",
      "Train Epoch: 26 [2100/2589 (81%)]\tLoss: 579.164978\n",
      "Train Epoch: 26 [2400/2589 (93%)]\tLoss: 484.387085\n",
      "====> Epoch: 26 Average train loss: 738.4108\n",
      "====> Epoch: 26 Average test loss: 837.4143\n"
     ]
    },
    {
     "data": {
      "text/plain": [
       "TS_rnn(\n",
       "  (rnn): LSTM(1, 32, num_layers=2)\n",
       "  (mlp): Sequential(\n",
       "    (0): Linear(in_features=32, out_features=16, bias=True)\n",
       "    (1): Dropout(p=0.5)\n",
       "    (2): ReLU()\n",
       "    (3): Linear(in_features=16, out_features=1, bias=True)\n",
       "  )\n",
       ")"
      ]
     },
     "execution_count": 16,
     "metadata": {},
     "output_type": "execute_result"
    },
    {
     "name": "stdout",
     "output_type": "stream",
     "text": [
      "Train Epoch: 27 [0/2589 (0%)]\tLoss: 878.745544\n",
      "Train Epoch: 27 [300/2589 (12%)]\tLoss: 817.827148\n",
      "Train Epoch: 27 [600/2589 (23%)]\tLoss: 852.400269\n",
      "Train Epoch: 27 [900/2589 (35%)]\tLoss: 554.516724\n",
      "Train Epoch: 27 [1200/2589 (46%)]\tLoss: 630.118958\n",
      "Train Epoch: 27 [1500/2589 (58%)]\tLoss: 746.143372\n",
      "Train Epoch: 27 [1800/2589 (70%)]\tLoss: 662.203003\n",
      "Train Epoch: 27 [2100/2589 (81%)]\tLoss: 800.926758\n",
      "Train Epoch: 27 [2400/2589 (93%)]\tLoss: 825.879700\n",
      "====> Epoch: 27 Average train loss: 743.3965\n",
      "====> Epoch: 27 Average test loss: 827.4963\n"
     ]
    },
    {
     "data": {
      "text/plain": [
       "TS_rnn(\n",
       "  (rnn): LSTM(1, 32, num_layers=2)\n",
       "  (mlp): Sequential(\n",
       "    (0): Linear(in_features=32, out_features=16, bias=True)\n",
       "    (1): Dropout(p=0.5)\n",
       "    (2): ReLU()\n",
       "    (3): Linear(in_features=16, out_features=1, bias=True)\n",
       "  )\n",
       ")"
      ]
     },
     "execution_count": 16,
     "metadata": {},
     "output_type": "execute_result"
    },
    {
     "name": "stdout",
     "output_type": "stream",
     "text": [
      "Train Epoch: 28 [0/2589 (0%)]\tLoss: 634.507446\n",
      "Train Epoch: 28 [300/2589 (12%)]\tLoss: 678.578735\n",
      "Train Epoch: 28 [600/2589 (23%)]\tLoss: 603.834717\n",
      "Train Epoch: 28 [900/2589 (35%)]\tLoss: 685.579285\n",
      "Train Epoch: 28 [1200/2589 (46%)]\tLoss: 785.211304\n",
      "Train Epoch: 28 [1500/2589 (58%)]\tLoss: 733.639465\n",
      "Train Epoch: 28 [1800/2589 (70%)]\tLoss: 677.083740\n",
      "Train Epoch: 28 [2100/2589 (81%)]\tLoss: 775.884460\n",
      "Train Epoch: 28 [2400/2589 (93%)]\tLoss: 568.089417\n",
      "====> Epoch: 28 Average train loss: 739.0947\n",
      "====> Epoch: 28 Average test loss: 830.4344\n"
     ]
    },
    {
     "data": {
      "text/plain": [
       "TS_rnn(\n",
       "  (rnn): LSTM(1, 32, num_layers=2)\n",
       "  (mlp): Sequential(\n",
       "    (0): Linear(in_features=32, out_features=16, bias=True)\n",
       "    (1): Dropout(p=0.5)\n",
       "    (2): ReLU()\n",
       "    (3): Linear(in_features=16, out_features=1, bias=True)\n",
       "  )\n",
       ")"
      ]
     },
     "execution_count": 16,
     "metadata": {},
     "output_type": "execute_result"
    },
    {
     "name": "stdout",
     "output_type": "stream",
     "text": [
      "Train Epoch: 29 [0/2589 (0%)]\tLoss: 712.688171\n",
      "Train Epoch: 29 [300/2589 (12%)]\tLoss: 720.388977\n",
      "Train Epoch: 29 [600/2589 (23%)]\tLoss: 675.630920\n",
      "Train Epoch: 29 [900/2589 (35%)]\tLoss: 752.172974\n",
      "Train Epoch: 29 [1200/2589 (46%)]\tLoss: 619.354797\n",
      "Train Epoch: 29 [1500/2589 (58%)]\tLoss: 714.202271\n",
      "Train Epoch: 29 [1800/2589 (70%)]\tLoss: 937.186890\n",
      "Train Epoch: 29 [2100/2589 (81%)]\tLoss: 540.780518\n",
      "Train Epoch: 29 [2400/2589 (93%)]\tLoss: 585.830322\n",
      "====> Epoch: 29 Average train loss: 736.8161\n",
      "====> Epoch: 29 Average test loss: 835.8625\n"
     ]
    },
    {
     "data": {
      "text/plain": [
       "TS_rnn(\n",
       "  (rnn): LSTM(1, 32, num_layers=2)\n",
       "  (mlp): Sequential(\n",
       "    (0): Linear(in_features=32, out_features=16, bias=True)\n",
       "    (1): Dropout(p=0.5)\n",
       "    (2): ReLU()\n",
       "    (3): Linear(in_features=16, out_features=1, bias=True)\n",
       "  )\n",
       ")"
      ]
     },
     "execution_count": 16,
     "metadata": {},
     "output_type": "execute_result"
    },
    {
     "name": "stdout",
     "output_type": "stream",
     "text": [
      "Train Epoch: 30 [0/2589 (0%)]\tLoss: 740.798767\n",
      "Train Epoch: 30 [300/2589 (12%)]\tLoss: 683.827942\n",
      "Train Epoch: 30 [600/2589 (23%)]\tLoss: 778.895874\n",
      "Train Epoch: 30 [900/2589 (35%)]\tLoss: 584.454407\n",
      "Train Epoch: 30 [1200/2589 (46%)]\tLoss: 822.863892\n",
      "Train Epoch: 30 [1500/2589 (58%)]\tLoss: 801.831848\n"
     ]
    },
    {
     "ename": "KeyboardInterrupt",
     "evalue": "",
     "output_type": "error",
     "traceback": [
      "\u001b[0;31m---------------------------------------------------------------------------\u001b[0m",
      "\u001b[0;31mKeyboardInterrupt\u001b[0m                         Traceback (most recent call last)",
      "\u001b[0;32m<ipython-input-16-2dfa0c8e744e>\u001b[0m in \u001b[0;36m<module>\u001b[0;34m\u001b[0m\n\u001b[1;32m     39\u001b[0m         \u001b[0;31m#print(target)\u001b[0m\u001b[0;34m\u001b[0m\u001b[0;34m\u001b[0m\u001b[0;34m\u001b[0m\u001b[0m\n\u001b[1;32m     40\u001b[0m         \u001b[0mlo\u001b[0m \u001b[0;34m=\u001b[0m \u001b[0mloss\u001b[0m\u001b[0;34m(\u001b[0m\u001b[0mout\u001b[0m\u001b[0;34m.\u001b[0m\u001b[0msqueeze\u001b[0m\u001b[0;34m(\u001b[0m\u001b[0;34m)\u001b[0m\u001b[0;34m,\u001b[0m \u001b[0mtarget\u001b[0m\u001b[0;34m)\u001b[0m\u001b[0;34m\u001b[0m\u001b[0;34m\u001b[0m\u001b[0m\n\u001b[0;32m---> 41\u001b[0;31m         \u001b[0mlo\u001b[0m\u001b[0;34m.\u001b[0m\u001b[0mbackward\u001b[0m\u001b[0;34m(\u001b[0m\u001b[0;34m)\u001b[0m\u001b[0;34m\u001b[0m\u001b[0;34m\u001b[0m\u001b[0m\n\u001b[0m\u001b[1;32m     42\u001b[0m         \u001b[0moptimizer\u001b[0m\u001b[0;34m.\u001b[0m\u001b[0mstep\u001b[0m\u001b[0;34m(\u001b[0m\u001b[0;34m)\u001b[0m\u001b[0;34m\u001b[0m\u001b[0;34m\u001b[0m\u001b[0m\n\u001b[1;32m     43\u001b[0m         \u001b[0mtrain_loss\u001b[0m \u001b[0;34m+=\u001b[0m \u001b[0mlo\u001b[0m\u001b[0;34m.\u001b[0m\u001b[0mdata\u001b[0m\u001b[0;34m\u001b[0m\u001b[0;34m\u001b[0m\u001b[0m\n",
      "\u001b[0;32m/anaconda3/envs/data_mining/lib/python3.6/site-packages/torch/tensor.py\u001b[0m in \u001b[0;36mbackward\u001b[0;34m(self, gradient, retain_graph, create_graph)\u001b[0m\n\u001b[1;32m    100\u001b[0m                 \u001b[0mproducts\u001b[0m\u001b[0;34m.\u001b[0m \u001b[0mDefaults\u001b[0m \u001b[0mto\u001b[0m\u001b[0;31m \u001b[0m\u001b[0;31m`\u001b[0m\u001b[0;31m`\u001b[0m\u001b[0;32mFalse\u001b[0m\u001b[0;31m`\u001b[0m\u001b[0;31m`\u001b[0m\u001b[0;34m.\u001b[0m\u001b[0;34m\u001b[0m\u001b[0;34m\u001b[0m\u001b[0m\n\u001b[1;32m    101\u001b[0m         \"\"\"\n\u001b[0;32m--> 102\u001b[0;31m         \u001b[0mtorch\u001b[0m\u001b[0;34m.\u001b[0m\u001b[0mautograd\u001b[0m\u001b[0;34m.\u001b[0m\u001b[0mbackward\u001b[0m\u001b[0;34m(\u001b[0m\u001b[0mself\u001b[0m\u001b[0;34m,\u001b[0m \u001b[0mgradient\u001b[0m\u001b[0;34m,\u001b[0m \u001b[0mretain_graph\u001b[0m\u001b[0;34m,\u001b[0m \u001b[0mcreate_graph\u001b[0m\u001b[0;34m)\u001b[0m\u001b[0;34m\u001b[0m\u001b[0;34m\u001b[0m\u001b[0m\n\u001b[0m\u001b[1;32m    103\u001b[0m \u001b[0;34m\u001b[0m\u001b[0m\n\u001b[1;32m    104\u001b[0m     \u001b[0;32mdef\u001b[0m \u001b[0mregister_hook\u001b[0m\u001b[0;34m(\u001b[0m\u001b[0mself\u001b[0m\u001b[0;34m,\u001b[0m \u001b[0mhook\u001b[0m\u001b[0;34m)\u001b[0m\u001b[0;34m:\u001b[0m\u001b[0;34m\u001b[0m\u001b[0;34m\u001b[0m\u001b[0m\n",
      "\u001b[0;32m/anaconda3/envs/data_mining/lib/python3.6/site-packages/torch/autograd/__init__.py\u001b[0m in \u001b[0;36mbackward\u001b[0;34m(tensors, grad_tensors, retain_graph, create_graph, grad_variables)\u001b[0m\n\u001b[1;32m     88\u001b[0m     Variable._execution_engine.run_backward(\n\u001b[1;32m     89\u001b[0m         \u001b[0mtensors\u001b[0m\u001b[0;34m,\u001b[0m \u001b[0mgrad_tensors\u001b[0m\u001b[0;34m,\u001b[0m \u001b[0mretain_graph\u001b[0m\u001b[0;34m,\u001b[0m \u001b[0mcreate_graph\u001b[0m\u001b[0;34m,\u001b[0m\u001b[0;34m\u001b[0m\u001b[0;34m\u001b[0m\u001b[0m\n\u001b[0;32m---> 90\u001b[0;31m         allow_unreachable=True)  # allow_unreachable flag\n\u001b[0m\u001b[1;32m     91\u001b[0m \u001b[0;34m\u001b[0m\u001b[0m\n\u001b[1;32m     92\u001b[0m \u001b[0;34m\u001b[0m\u001b[0m\n",
      "\u001b[0;31mKeyboardInterrupt\u001b[0m: "
     ]
    }
   ],
   "source": [
    "# run the model\n",
    "tr_x = '../data/rnn_train_x.npy'\n",
    "tr_y = '../data/rnn_train_y.npy'\n",
    "tet_x = '../data/rnn_test_x.npy'\n",
    "tet_y = '../data/rnn_test_y.npy'\n",
    "num_epochs = 2000\n",
    "batch_size = 30\n",
    "verbose = True\n",
    "# set models and loss\n",
    "model = TS_rnn(num_inp = 1, num_hidden = 32, num_layers = 2, dropout = 0, num_dim_mlp = 16) # (self, num_inp = 13, num_hidden = 64, num_layers = 2, dropout = 0.5, num_dim_mlp = 16)\n",
    "#model = MLP_dropout(num_inp = 24, num_hidden = 256, num_hidden2 = 64) # (self, num_inp = 1, num_hidden = 64, num_hidden2 = 16)\n",
    "#model = TS_rnn()\n",
    "#loss = PDLoss()\n",
    "loss = torch.nn.L1Loss()\n",
    "#loss = torch.nn.MSELoss()\n",
    "optimizer = torch.optim.Adam(model.parameters(), lr = 1e-2)\n",
    "# set the scheduler\n",
    "lamb1 = lambda x: .1**(x//30)\n",
    "scheduler = lr_scheduler.LambdaLR(optimizer, lr_lambda = lamb1)\n",
    "# loda data\n",
    "train = Data(tr_x, tr_y)\n",
    "test = Data(tet_x, tet_y)\n",
    "dl_train = DataLoader(train, batch_size = batch_size, shuffle = True)\n",
    "dl_test = DataLoader(test, batch_size = batch_size, shuffle = True)\n",
    "#train the model\n",
    "for epoch in range(num_epochs):\n",
    "    #scheduler.step()\n",
    "    model.train()\n",
    "    train_loss = 0\n",
    "    counter = 0\n",
    "    for batch_idx, dat in enumerate(dl_train):\n",
    "        counter += 1\n",
    "        # train the model\n",
    "        optimizer.zero_grad()\n",
    "        inp, target = dat\n",
    "        #print('----------------')\n",
    "        out = model(inp)\n",
    "        #print(out.squeeze())\n",
    "        #print(target)\n",
    "        lo = loss(out.squeeze(), target)\n",
    "        lo.backward()\n",
    "        optimizer.step()\n",
    "        train_loss += lo.data\n",
    "        if verbose:\n",
    "            if batch_idx % 10 == 0:\n",
    "                print('Train Epoch: {} [{}/{} ({:.0f}%)]\\tLoss: {:.6f}'.format(\n",
    "                    epoch,\n",
    "                    batch_idx * batch_size,\n",
    "                    len(train),\n",
    "                    100.*batch_idx*batch_size/len(train),\n",
    "                    lo.data\n",
    "                    ))\n",
    "    test_lo = test_model(dl_test, model, loss)\n",
    "    #hit_rate = significant_test(dl_test, model, loss)\n",
    "    if verbose:\n",
    "        # train loss\n",
    "        print('====> Epoch: {} Average train loss: {:.4f}'.format(\n",
    "            epoch,\n",
    "            train_loss/counter\n",
    "            ))\n",
    "        # test loss\n",
    "        print('====> Epoch: {} Average test loss: {:.4f}'.format(\n",
    "            epoch,\n",
    "            test_lo\n",
    "            ))\n",
    "        # significant test\n",
    "        #print('====> Epoch: {} Average hit rate in 10 candidate: {: .4f}'.format(\n",
    "        #    epoch,\n",
    "        #    hit_rate\n",
    "        #))"
   ]
  },
  {
   "cell_type": "code",
   "execution_count": null,
   "metadata": {},
   "outputs": [],
   "source": [
    "# evaluate"
   ]
  },
  {
   "cell_type": "code",
   "execution_count": 53,
   "metadata": {},
   "outputs": [],
   "source": [
    "out = model(torch.from_numpy(test_x).float())"
   ]
  },
  {
   "cell_type": "code",
   "execution_count": 54,
   "metadata": {},
   "outputs": [],
   "source": [
    "#out = out[:, -1]\n",
    "#out1 = test_y[:, -1, 0]\n",
    "out1= test_y[:]"
   ]
  },
  {
   "cell_type": "code",
   "execution_count": 39,
   "metadata": {},
   "outputs": [
    {
     "data": {
      "text/plain": [
       "[<matplotlib.lines.Line2D at 0x1a248e1a90>]"
      ]
     },
     "execution_count": 39,
     "metadata": {},
     "output_type": "execute_result"
    },
    {
     "ename": "NameError",
     "evalue": "name 'out1' is not defined",
     "output_type": "error",
     "traceback": [
      "\u001b[0;31m---------------------------------------------------------------------------\u001b[0m",
      "\u001b[0;31mNameError\u001b[0m                                 Traceback (most recent call last)",
      "\u001b[0;32m<ipython-input-39-e2d46a231168>\u001b[0m in \u001b[0;36m<module>\u001b[0;34m\u001b[0m\n\u001b[1;32m      1\u001b[0m \u001b[0mplt\u001b[0m\u001b[0;34m.\u001b[0m\u001b[0mplot\u001b[0m\u001b[0;34m(\u001b[0m\u001b[0mout\u001b[0m\u001b[0;34m.\u001b[0m\u001b[0mdata\u001b[0m\u001b[0;34m[\u001b[0m\u001b[0;36m100\u001b[0m\u001b[0;34m:\u001b[0m\u001b[0;36m300\u001b[0m\u001b[0;34m]\u001b[0m\u001b[0;34m.\u001b[0m\u001b[0mnumpy\u001b[0m\u001b[0;34m(\u001b[0m\u001b[0;34m)\u001b[0m\u001b[0;34m)\u001b[0m\u001b[0;34m\u001b[0m\u001b[0;34m\u001b[0m\u001b[0m\n\u001b[0;32m----> 2\u001b[0;31m \u001b[0mplt\u001b[0m\u001b[0;34m.\u001b[0m\u001b[0mplot\u001b[0m\u001b[0;34m(\u001b[0m\u001b[0mout1\u001b[0m\u001b[0;34m[\u001b[0m\u001b[0;36m100\u001b[0m\u001b[0;34m:\u001b[0m\u001b[0;36m300\u001b[0m\u001b[0;34m]\u001b[0m\u001b[0;34m)\u001b[0m\u001b[0;34m\u001b[0m\u001b[0;34m\u001b[0m\u001b[0m\n\u001b[0m",
      "\u001b[0;31mNameError\u001b[0m: name 'out1' is not defined"
     ]
    },
    {
     "data": {
      "image/png": "[encoded data removed]",
      "text/plain": [
       "<Figure size 432x288 with 1 Axes>"
      ]
     },
     "metadata": {
      "needs_background": "light"
     },
     "output_type": "display_data"
    }
   ],
   "source": [
    "plt.plot(out.data[100:300].numpy())\n",
    "plt.plot(out1[100:300])\n",
    "# 当数值大的时候 预测不敢跟上去，两种方法，一种是压制目标值，一种是激励预测值\n",
    "# 另外应该想一下，跟上去的后果：可能找成更大的误差，\n",
    "# 为了让预测更加准确，是否应该讲厂的大势给加进去"
   ]
  },
  {
   "cell_type": "markdown",
   "metadata": {},
   "source": [
    "# "
   ]
  },
  {
   "cell_type": "code",
   "execution_count": 96,
   "metadata": {},
   "outputs": [
    {
     "data": {
      "text/plain": [
       "[<matplotlib.lines.Line2D at 0x1a29260e10>]"
      ]
     },
     "execution_count": 96,
     "metadata": {},
     "output_type": "execute_result"
    },
    {
     "data": {
      "image/png": "[encoded data removed]",
      "text/plain": [
       "<Figure size 432x288 with 1 Axes>"
      ]
     },
     "metadata": {
      "needs_background": "light"
     },
     "output_type": "display_data"
    }
   ],
   "source": [
    "plt.plot(train_y[:100])\n"
   ]
  },
  {
   "cell_type": "code",
   "execution_count": 94,
   "metadata": {},
   "outputs": [
    {
     "data": {
      "text/plain": [
       "[<matplotlib.lines.Line2D at 0x1a29f0f828>]"
      ]
     },
     "execution_count": 94,
     "metadata": {},
     "output_type": "execute_result"
    },
    {
     "data": {
      "image/png": "[encoded data removed]",
      "text/plain": [
       "<Figure size 432x288 with 1 Axes>"
      ]
     },
     "metadata": {
      "needs_background": "light"
     },
     "output_type": "display_data"
    }
   ],
   "source": [
    "plt.plot(train_x[:100, 1])"
   ]
  },
  {
   "cell_type": "code",
   "execution_count": 93,
   "metadata": {},
   "outputs": [
    {
     "data": {
      "text/plain": [
       "(2589, 5)"
      ]
     },
     "execution_count": 93,
     "metadata": {},
     "output_type": "execute_result"
    }
   ],
   "source": [
    "train_x.shape"
   ]
  },
  {
   "cell_type": "code",
   "execution_count": null,
   "metadata": {},
   "outputs": [],
   "source": []
  },
  {
   "cell_type": "code",
   "execution_count": 178,
   "metadata": {},
   "outputs": [],
   "source": [
    "from sklearn.neural_network import MLPRegressor\n",
    "from sklearn.metrics import mean_absolute_error\n",
    "from sklearn import model_selection"
   ]
  },
  {
   "cell_type": "code",
   "execution_count": 198,
   "metadata": {},
   "outputs": [],
   "source": [
    "mlp = MLPRegressor()\n",
    "mlp = mlp.fit(train_x, train_y)\n",
    "out = mlp.predict(test_x)"
   ]
  },
  {
   "cell_type": "code",
   "execution_count": 199,
   "metadata": {},
   "outputs": [
    {
     "data": {
      "text/plain": [
       "[<matplotlib.lines.Line2D at 0x1a2900c710>]"
      ]
     },
     "execution_count": 199,
     "metadata": {},
     "output_type": "execute_result"
    },
    {
     "data": {
      "text/plain": [
       "[<matplotlib.lines.Line2D at 0x1a28ffb668>]"
      ]
     },
     "execution_count": 199,
     "metadata": {},
     "output_type": "execute_result"
    },
    {
     "data": {
      "image/png": "[encoded data removed]",
      "text/plain": [
       "<Figure size 432x288 with 1 Axes>"
      ]
     },
     "metadata": {
      "needs_background": "light"
     },
     "output_type": "display_data"
    }
   ],
   "source": [
    "plt.plot(out[:100])\n",
    "plt.plot(test_y[:100])"
   ]
  },
  {
   "cell_type": "code",
   "execution_count": null,
   "metadata": {},
   "outputs": [],
   "source": []
  }
 ],
 "metadata": {
  "kernelspec": {
   "display_name": "data_mining",
   "language": "python",
   "name": "data_mining"
  },
  "language_info": {
   "codemirror_mode": {
    "name": "ipython",
    "version": 3
   },
   "file_extension": ".py",
   "mimetype": "text/x-python",
   "name": "python",
   "nbconvert_exporter": "python",
   "pygments_lexer": "ipython3",
   "version": "3.6.7"
  }
 },
 "nbformat": 4,
 "nbformat_minor": 2
}
